import numpy as np
import pandas_datareader as web
import matplotlib.pyplot as plt

stocks = ['Shop']

startDate = '01/01/2001'
endDate = '01/01/2017'

data = web.DataReader(stocks,data_source='yahoo',start=startDate,end=endDate)['Adj Close']

dailyReturns = (data/data.shift(1))-1
dailyReturns.hist(bins=100)
plt.show()
