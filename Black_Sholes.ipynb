{
  "nbformat": 4,
  "nbformat_minor": 0,
  "metadata": {
    "colab": {
      "name": "Black_Sholes.ipynb",
      "provenance": [],
      "authorship_tag": "ABX9TyMzEKEIgg15PX07OiFAcVNA",
      "include_colab_link": true
    },
    "kernelspec": {
      "name": "python3",
      "display_name": "Python 3"
    }
  },
  "cells": [
    {
      "cell_type": "markdown",
      "metadata": {
        "id": "view-in-github",
        "colab_type": "text"
      },
      "source": [
        "<a href=\"https://colab.research.google.com/github/ayalaman/jupyter/blob/master/Black_Sholes.ipynb\" target=\"_parent\"><img src=\"https://colab.research.google.com/assets/colab-badge.svg\" alt=\"Open In Colab\"/></a>"
      ]
    },
    {
      "cell_type": "code",
      "metadata": {
        "id": "NyJUVWXXHvTa",
        "colab_type": "code",
        "colab": {
          "base_uri": "https://localhost:8080/",
          "height": 51
        },
        "outputId": "4ed02162-df06-4f8f-ce7b-a6861d75d84f"
      },
      "source": [
        "import numpy as np\n",
        "import pandas as pd\n",
        "from scipy import stats\n",
        "from math import log, exp, sqrt\n",
        "\n",
        "\n",
        "def blacksholes_call (S,E,T,rf, sigma):\n",
        "  #Calculo de parametros d1 y d2\n",
        "  d1 = (log(S/E)+(rf+sigma*sigma/2.0)*T/(sigma*sqrt(T)))\n",
        "  d2 = d1-sigma*sqrt(T)\n",
        "\n",
        "  #Se requiere N(x) de la funcion de la distribución normal\n",
        "  return S*stats.norm.cdf(d1)-E*exp(-rf*T)*stats.norm.cdf(d2)\n",
        "\n",
        "def blacksholes_put(S,E,T,rf, sigma):\n",
        "  #Calculo de parametros d1 y d2\n",
        "  d1 = (log(S/E)+(rf+sigma*sigma/2.0)*T/(sigma*sqrt(T)))\n",
        "  d2 = d1-sigma*sqrt(T)\n",
        "\n",
        "  #Se requiere N(x) de la funcion de la distribución normal\n",
        "  return -S*stats.norm.cdf(-d1)+E*exp(-rf*T)*stats.norm.cdf(-d2)\n",
        "\n",
        "S0 = 100      # precio de la acción en t=0\n",
        "E = 100       #strike price\n",
        "T = 1         #expiración 1 = 1 año, 365 dias\n",
        "rf = (0.05)   #tasa libre de riesgo\n",
        "sigma = 0.2   #volatilidad de la acción\n",
        "\n",
        "print(\"Call option, Black Sholes:\", blacksholes_call(S0, E, T, rf, sigma))\n",
        "print(\"Put option, Black Sholes:\", blacksholes_put(S0, E, T, rf, sigma))"
      ],
      "execution_count": 5,
      "outputs": [
        {
          "output_type": "stream",
          "text": [
            "Call option, Black Sholes: 10.450583572185565\n",
            "Put option, Black Sholes: 5.573526022256971\n"
          ],
          "name": "stdout"
        }
      ]
    }
  ]
}